{
 "cells": [
  {
   "cell_type": "code",
   "execution_count": 1,
   "metadata": {},
   "outputs": [
    {
     "data": {
      "text/html": [
       "<div>\n",
       "<style scoped>\n",
       "    .dataframe tbody tr th:only-of-type {\n",
       "        vertical-align: middle;\n",
       "    }\n",
       "\n",
       "    .dataframe tbody tr th {\n",
       "        vertical-align: top;\n",
       "    }\n",
       "\n",
       "    .dataframe thead th {\n",
       "        text-align: right;\n",
       "    }\n",
       "</style>\n",
       "<table border=\"1\" class=\"dataframe\">\n",
       "  <thead>\n",
       "    <tr style=\"text-align: right;\">\n",
       "      <th></th>\n",
       "      <th>Sentiment</th>\n",
       "      <th>Sentiment Num</th>\n",
       "      <th>Multi</th>\n",
       "      <th>Text</th>\n",
       "    </tr>\n",
       "  </thead>\n",
       "  <tbody>\n",
       "    <tr>\n",
       "      <th>0</th>\n",
       "      <td>Negative</td>\n",
       "      <td>-1</td>\n",
       "      <td>-1</td>\n",
       "      <td>@smrtsg  Fault Again</td>\n",
       "    </tr>\n",
       "    <tr>\n",
       "      <th>1</th>\n",
       "      <td>Negative</td>\n",
       "      <td>-1</td>\n",
       "      <td>-1</td>\n",
       "      <td>@smrtsg I'm an overseas Singaporean &amp;amp; foun...</td>\n",
       "    </tr>\n",
       "    <tr>\n",
       "      <th>2</th>\n",
       "      <td>Negative</td>\n",
       "      <td>-1</td>\n",
       "      <td>-1</td>\n",
       "      <td>@hangloon @mrbrown @LTAsg @SMRT_Singapore @SB...</td>\n",
       "    </tr>\n",
       "    <tr>\n",
       "      <th>3</th>\n",
       "      <td>Negative</td>\n",
       "      <td>-1</td>\n",
       "      <td>-1</td>\n",
       "      <td>@NymeriusLXXXVII @smrtsg What are they fighti...</td>\n",
       "    </tr>\n",
       "    <tr>\n",
       "      <th>4</th>\n",
       "      <td>Negative</td>\n",
       "      <td>-1</td>\n",
       "      <td>-1</td>\n",
       "      <td>@NymeriusLXXXVII @smrtsg What are they fighti...</td>\n",
       "    </tr>\n",
       "  </tbody>\n",
       "</table>\n",
       "</div>"
      ],
      "text/plain": [
       "  Sentiment  Sentiment Num  Multi  \\\n",
       "0  Negative             -1     -1   \n",
       "1  Negative             -1     -1   \n",
       "2  Negative             -1     -1   \n",
       "3  Negative             -1     -1   \n",
       "4  Negative             -1     -1   \n",
       "\n",
       "                                                Text  \n",
       "0                               @smrtsg  Fault Again  \n",
       "1  @smrtsg I'm an overseas Singaporean &amp; foun...  \n",
       "2   @hangloon @mrbrown @LTAsg @SMRT_Singapore @SB...  \n",
       "3   @NymeriusLXXXVII @smrtsg What are they fighti...  \n",
       "4   @NymeriusLXXXVII @smrtsg What are they fighti...  "
      ]
     },
     "execution_count": 1,
     "metadata": {},
     "output_type": "execute_result"
    }
   ],
   "source": [
    "import pandas as pd\n",
    "from sklearn.model_selection import train_test_split\n",
    "\n",
    "df = pd.read_csv('sg-transport-1115-clean.csv')##sgtransport1145.csv')\n",
    "\n",
    "df.head()"
   ]
  },
  {
   "cell_type": "code",
   "execution_count": 2,
   "metadata": {},
   "outputs": [],
   "source": [
    "#conda install -c conda-forge textblob"
   ]
  },
  {
   "cell_type": "code",
   "execution_count": 3,
   "metadata": {},
   "outputs": [],
   "source": [
    "from textblob import TextBlob"
   ]
  },
  {
   "cell_type": "code",
   "execution_count": 4,
   "metadata": {},
   "outputs": [],
   "source": [
    "df = pd.read_csv('sg-transport-1115-clean.csv', header=0, encoding='utf-8')"
   ]
  },
  {
   "cell_type": "code",
   "execution_count": 5,
   "metadata": {},
   "outputs": [],
   "source": [
    "df.loc[df['Sentiment'].str.contains('neutral'), 'Sentiment Num'] = 0.0\n",
    "df.loc[df['Sentiment'].str.contains('positive'), 'Sentiment Num'] = 1.0\n",
    "df.loc[df['Sentiment'].str.contains('negative'), 'Sentiment Num'] = -1.0"
   ]
  },
  {
   "cell_type": "code",
   "execution_count": 6,
   "metadata": {},
   "outputs": [],
   "source": [
    "df=df[['Sentiment Num','Text']]"
   ]
  },
  {
   "cell_type": "code",
   "execution_count": 7,
   "metadata": {},
   "outputs": [],
   "source": [
    "df['Text'] = df['Text'].str.lower()"
   ]
  },
  {
   "cell_type": "code",
   "execution_count": 8,
   "metadata": {},
   "outputs": [
    {
     "data": {
      "text/plain": [
       "dtype('O')"
      ]
     },
     "execution_count": 8,
     "metadata": {},
     "output_type": "execute_result"
    }
   ],
   "source": [
    "df['Text'].dtypes"
   ]
  },
  {
   "cell_type": "code",
   "execution_count": 9,
   "metadata": {},
   "outputs": [],
   "source": [
    "df['Text'] = df['Text'].astype(str)"
   ]
  },
  {
   "cell_type": "code",
   "execution_count": 10,
   "metadata": {},
   "outputs": [
    {
     "name": "stdout",
     "output_type": "stream",
     "text": [
      "   Sentiment Num                                               Text\n",
      "0           -1.0                               @smrtsg  fault again\n",
      "1           -1.0  @smrtsg i'm an overseas singaporean &amp; foun...\n",
      "2           -1.0   @hangloon @mrbrown @ltasg @smrt_singapore @sb...\n",
      "3           -1.0   @nymeriuslxxxvii @smrtsg what are they fighti...\n",
      "4           -1.0   @nymeriuslxxxvii @smrtsg what are they fighti...\n"
     ]
    }
   ],
   "source": [
    "print(df.head())"
   ]
  },
  {
   "cell_type": "code",
   "execution_count": 11,
   "metadata": {},
   "outputs": [
    {
     "name": "stdout",
     "output_type": "stream",
     "text": [
      "0                                    @smrtsg  fault again\n",
      "1       @smrtsg i'm an overseas singaporean &amp; foun...\n",
      "2        @hangloon @mrbrown @ltasg @smrt_singapore @sb...\n",
      "3        @nymeriuslxxxvii @smrtsg what are they fighti...\n",
      "4        @nymeriuslxxxvii @smrtsg what are they fighti...\n",
      "                              ...                        \n",
      "1057    yes, we couldn't beat woonie's original timing...\n",
      "1058     you benefit best from higher train frequencies! \n",
      "1059                                     thank you uncle!\n",
      "1060       thanks smrt and sbs transit! #smrt #sbstransit\n",
      "1061    thank you to this uncle who offered to send me...\n",
      "Name: Text, Length: 1062, dtype: object\n"
     ]
    }
   ],
   "source": [
    "sentences = df[\"Text\"]\n",
    "print (sentences)"
   ]
  },
  {
   "cell_type": "code",
   "execution_count": 12,
   "metadata": {},
   "outputs": [],
   "source": [
    "def sentiment_calc(text):\n",
    "    try:\n",
    "        return TextBlob(text).sentiment\n",
    "    except:\n",
    "        return None\n",
    "\n",
    "df['polarity'] = df['Text'].apply(sentiment_calc)"
   ]
  },
  {
   "cell_type": "code",
   "execution_count": 13,
   "metadata": {},
   "outputs": [
    {
     "name": "stdout",
     "output_type": "stream",
     "text": [
      "   Sentiment Num                                               Text  \\\n",
      "0           -1.0                               @smrtsg  fault again   \n",
      "1           -1.0  @smrtsg i'm an overseas singaporean &amp; foun...   \n",
      "2           -1.0   @hangloon @mrbrown @ltasg @smrt_singapore @sb...   \n",
      "3           -1.0   @nymeriuslxxxvii @smrtsg what are they fighti...   \n",
      "4           -1.0   @nymeriuslxxxvii @smrtsg what are they fighti...   \n",
      "\n",
      "                                     polarity  \n",
      "0                                  (0.0, 0.0)  \n",
      "1  (-0.2333333333333333, 0.43333333333333335)  \n",
      "2                                  (0.0, 0.0)  \n",
      "3                                  (0.0, 0.0)  \n",
      "4                                  (0.0, 0.0)  \n"
     ]
    }
   ],
   "source": [
    "print(df.head())"
   ]
  },
  {
   "cell_type": "code",
   "execution_count": 14,
   "metadata": {},
   "outputs": [],
   "source": [
    "df['polarity2'] = df['Text'].apply(lambda x: TextBlob(x).sentiment[0])"
   ]
  },
  {
   "cell_type": "code",
   "execution_count": 15,
   "metadata": {},
   "outputs": [
    {
     "name": "stdout",
     "output_type": "stream",
     "text": [
      "   Sentiment Num                                               Text  \\\n",
      "0           -1.0                               @smrtsg  fault again   \n",
      "1           -1.0  @smrtsg i'm an overseas singaporean &amp; foun...   \n",
      "2           -1.0   @hangloon @mrbrown @ltasg @smrt_singapore @sb...   \n",
      "3           -1.0   @nymeriuslxxxvii @smrtsg what are they fighti...   \n",
      "4           -1.0   @nymeriuslxxxvii @smrtsg what are they fighti...   \n",
      "\n",
      "                                     polarity  polarity2  \n",
      "0                                  (0.0, 0.0)   0.000000  \n",
      "1  (-0.2333333333333333, 0.43333333333333335)  -0.233333  \n",
      "2                                  (0.0, 0.0)   0.000000  \n",
      "3                                  (0.0, 0.0)   0.000000  \n",
      "4                                  (0.0, 0.0)   0.000000  \n"
     ]
    }
   ],
   "source": [
    "print(df.head())"
   ]
  },
  {
   "cell_type": "code",
   "execution_count": 16,
   "metadata": {},
   "outputs": [
    {
     "name": "stdout",
     "output_type": "stream",
     "text": [
      "   Sentiment Num                                               Text  \\\n",
      "0           -1.0                               @smrtsg  fault again   \n",
      "1           -1.0  @smrtsg i'm an overseas singaporean &amp; foun...   \n",
      "2           -1.0   @hangloon @mrbrown @ltasg @smrt_singapore @sb...   \n",
      "3           -1.0   @nymeriuslxxxvii @smrtsg what are they fighti...   \n",
      "4           -1.0   @nymeriuslxxxvii @smrtsg what are they fighti...   \n",
      "\n",
      "                                     polarity  polarity2  textblob sentiment  \n",
      "0                                  (0.0, 0.0)   0.000000                 0.0  \n",
      "1  (-0.2333333333333333, 0.43333333333333335)  -0.233333                -1.0  \n",
      "2                                  (0.0, 0.0)   0.000000                 0.0  \n",
      "3                                  (0.0, 0.0)   0.000000                 0.0  \n",
      "4                                  (0.0, 0.0)   0.000000                 0.0  \n"
     ]
    }
   ],
   "source": [
    "df['textblob sentiment'] = 0\n",
    "df.loc[(df['polarity2'] > 0.2) & (df['polarity2'] <= 1), 'textblob sentiment'] = 1.0\n",
    "df.loc[(df['polarity2'] < 0), 'textblob sentiment'] = -1.0\n",
    "print(df.head())"
   ]
  },
  {
   "cell_type": "code",
   "execution_count": 17,
   "metadata": {},
   "outputs": [
    {
     "data": {
      "text/plain": [
       "0.5470809792843692"
      ]
     },
     "execution_count": 17,
     "metadata": {},
     "output_type": "execute_result"
    }
   ],
   "source": [
    "from sklearn.metrics import accuracy_score\n",
    "accuracy_score(df[\"Sentiment Num\"], df[\"textblob sentiment\"])"
   ]
  },
  {
   "cell_type": "code",
   "execution_count": 18,
   "metadata": {},
   "outputs": [],
   "source": [
    "from sklearn.metrics import f1_score"
   ]
  },
  {
   "cell_type": "code",
   "execution_count": 19,
   "metadata": {},
   "outputs": [
    {
     "data": {
      "text/plain": [
       "0.5247528154496788"
      ]
     },
     "execution_count": 19,
     "metadata": {},
     "output_type": "execute_result"
    }
   ],
   "source": [
    "f1_score(df['Sentiment Num'], df['textblob sentiment'], average='weighted')"
   ]
  }
 ],
 "metadata": {
  "kernelspec": {
   "display_name": "Python 3",
   "language": "python",
   "name": "python3"
  },
  "language_info": {
   "codemirror_mode": {
    "name": "ipython",
    "version": 3
   },
   "file_extension": ".py",
   "mimetype": "text/x-python",
   "name": "python",
   "nbconvert_exporter": "python",
   "pygments_lexer": "ipython3",
   "version": "3.8.8"
  }
 },
 "nbformat": 4,
 "nbformat_minor": 2
}
