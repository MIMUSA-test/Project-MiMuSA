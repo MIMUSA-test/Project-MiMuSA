{
 "cells": [
  {
   "cell_type": "markdown",
   "metadata": {},
   "source": [
    "# Credits to Professor Wang's ML Lab"
   ]
  },
  {
   "cell_type": "code",
   "execution_count": 1,
   "metadata": {
    "id": "_0PVZsoU18gr",
    "outputId": "6674cd1a-2d5c-4bd7-f16e-38d5ae54c0f3"
   },
   "outputs": [
    {
     "name": "stdout",
     "output_type": "stream",
     "text": [
      "(2210, 4)\n"
     ]
    },
    {
     "data": {
      "text/html": [
       "<div>\n",
       "<style scoped>\n",
       "    .dataframe tbody tr th:only-of-type {\n",
       "        vertical-align: middle;\n",
       "    }\n",
       "\n",
       "    .dataframe tbody tr th {\n",
       "        vertical-align: top;\n",
       "    }\n",
       "\n",
       "    .dataframe thead th {\n",
       "        text-align: right;\n",
       "    }\n",
       "</style>\n",
       "<table border=\"1\" class=\"dataframe\">\n",
       "  <thead>\n",
       "    <tr style=\"text-align: right;\">\n",
       "      <th></th>\n",
       "      <th>Sentiment</th>\n",
       "      <th>Sentiment Num</th>\n",
       "      <th>Multi</th>\n",
       "      <th>Text</th>\n",
       "    </tr>\n",
       "  </thead>\n",
       "  <tbody>\n",
       "    <tr>\n",
       "      <th>0</th>\n",
       "      <td>Neutral</td>\n",
       "      <td>0</td>\n",
       "      <td>0</td>\n",
       "      <td>Effective  but   too-tepid  biopic</td>\n",
       "    </tr>\n",
       "    <tr>\n",
       "      <th>1</th>\n",
       "      <td>Positive</td>\n",
       "      <td>1</td>\n",
       "      <td>1</td>\n",
       "      <td>If   you   sometimes   like   to    go   to  ...</td>\n",
       "    </tr>\n",
       "    <tr>\n",
       "      <th>2</th>\n",
       "      <td>Positive</td>\n",
       "      <td>1</td>\n",
       "      <td>2</td>\n",
       "      <td>Emerges   as   something  rare  ,    an   i...</td>\n",
       "    </tr>\n",
       "    <tr>\n",
       "      <th>3</th>\n",
       "      <td>Neutral</td>\n",
       "      <td>0</td>\n",
       "      <td>0</td>\n",
       "      <td>The  film     provides   some   great  insigh...</td>\n",
       "    </tr>\n",
       "    <tr>\n",
       "      <th>4</th>\n",
       "      <td>Positive</td>\n",
       "      <td>1</td>\n",
       "      <td>2</td>\n",
       "      <td>Offers    that   rare  combination   of    en...</td>\n",
       "    </tr>\n",
       "    <tr>\n",
       "      <th>5</th>\n",
       "      <td>Positive</td>\n",
       "      <td>1</td>\n",
       "      <td>1</td>\n",
       "      <td>Perhaps     no  picture   ever  made     has  ...</td>\n",
       "    </tr>\n",
       "    <tr>\n",
       "      <th>6</th>\n",
       "      <td>Positive</td>\n",
       "      <td>1</td>\n",
       "      <td>1</td>\n",
       "      <td>Steers   turns   in    a   snappy  screenpl...</td>\n",
       "    </tr>\n",
       "    <tr>\n",
       "      <th>7</th>\n",
       "      <td>Positive</td>\n",
       "      <td>1</td>\n",
       "      <td>1</td>\n",
       "      <td>But   he   somehow     pulls  it  off  .</td>\n",
       "    </tr>\n",
       "    <tr>\n",
       "      <th>8</th>\n",
       "      <td>Positive</td>\n",
       "      <td>1</td>\n",
       "      <td>1</td>\n",
       "      <td>Take  Care   of   My  Cat    offers    a    ...</td>\n",
       "    </tr>\n",
       "    <tr>\n",
       "      <th>9</th>\n",
       "      <td>Positive</td>\n",
       "      <td>1</td>\n",
       "      <td>2</td>\n",
       "      <td>This      is    a  film  well  worth       see...</td>\n",
       "    </tr>\n",
       "  </tbody>\n",
       "</table>\n",
       "</div>"
      ],
      "text/plain": [
       "  Sentiment  Sentiment Num  Multi  \\\n",
       "0   Neutral              0      0   \n",
       "1  Positive              1      1   \n",
       "2  Positive              1      2   \n",
       "3   Neutral              0      0   \n",
       "4  Positive              1      2   \n",
       "5  Positive              1      1   \n",
       "6  Positive              1      1   \n",
       "7  Positive              1      1   \n",
       "8  Positive              1      1   \n",
       "9  Positive              1      2   \n",
       "\n",
       "                                                Text  \n",
       "0                 Effective  but   too-tepid  biopic  \n",
       "1   If   you   sometimes   like   to    go   to  ...  \n",
       "2     Emerges   as   something  rare  ,    an   i...  \n",
       "3   The  film     provides   some   great  insigh...  \n",
       "4   Offers    that   rare  combination   of    en...  \n",
       "5  Perhaps     no  picture   ever  made     has  ...  \n",
       "6     Steers   turns   in    a   snappy  screenpl...  \n",
       "7           But   he   somehow     pulls  it  off  .  \n",
       "8    Take  Care   of   My  Cat    offers    a    ...  \n",
       "9  This      is    a  film  well  worth       see...  "
      ]
     },
     "execution_count": 1,
     "metadata": {},
     "output_type": "execute_result"
    }
   ],
   "source": [
    "# import data\n",
    "from datetime import datetime\n",
    "begin = datetime.now()\n",
    "import pandas as pd\n",
    "import numpy as np\n",
    "data = pd.read_csv('0test-ready.csv')#sg-transport-1115-clean.csv')#sgtransport1145.csv')\n",
    "\n",
    "# check data\n",
    "print(data.shape)\n",
    "data.head(10)"
   ]
  },
  {
   "cell_type": "code",
   "execution_count": 2,
   "metadata": {
    "id": "DswR-sJ418gu"
   },
   "outputs": [],
   "source": [
    "# basic pre-processing\n",
    "from nltk.corpus import stopwords\n",
    "from nltk.tokenize import word_tokenize\n",
    "from nltk.stem import PorterStemmer\n",
    "import re\n",
    "\n",
    "stop_words = set(stopwords.words('english'))\n",
    "stemmer = PorterStemmer()\n",
    "\n",
    "def preprocess(review):\n",
    "    review = \" \".join([stemmer.stem(w.lower()) for w in word_tokenize(re.sub('[^a-zA-Z]+', ' ', review.replace(\"<br />\", \"\"))) if not w in stop_words])\n",
    "    return review\n",
    "\n",
    "data['review_clean'] = data.apply(lambda x: preprocess(x['Text']), axis=1)"
   ]
  },
  {
   "cell_type": "code",
   "execution_count": 3,
   "metadata": {
    "id": "v12wjKXi18gv",
    "outputId": "e889405b-50b7-4452-f4ec-83191ccf5772"
   },
   "outputs": [
    {
     "data": {
      "text/html": [
       "<div>\n",
       "<style scoped>\n",
       "    .dataframe tbody tr th:only-of-type {\n",
       "        vertical-align: middle;\n",
       "    }\n",
       "\n",
       "    .dataframe tbody tr th {\n",
       "        vertical-align: top;\n",
       "    }\n",
       "\n",
       "    .dataframe thead th {\n",
       "        text-align: right;\n",
       "    }\n",
       "</style>\n",
       "<table border=\"1\" class=\"dataframe\">\n",
       "  <thead>\n",
       "    <tr style=\"text-align: right;\">\n",
       "      <th></th>\n",
       "      <th>Sentiment</th>\n",
       "      <th>Sentiment Num</th>\n",
       "      <th>Multi</th>\n",
       "      <th>Text</th>\n",
       "      <th>review_clean</th>\n",
       "    </tr>\n",
       "  </thead>\n",
       "  <tbody>\n",
       "    <tr>\n",
       "      <th>0</th>\n",
       "      <td>Neutral</td>\n",
       "      <td>0</td>\n",
       "      <td>0</td>\n",
       "      <td>Effective  but   too-tepid  biopic</td>\n",
       "      <td>effect tepid biopic</td>\n",
       "    </tr>\n",
       "    <tr>\n",
       "      <th>1</th>\n",
       "      <td>Positive</td>\n",
       "      <td>1</td>\n",
       "      <td>1</td>\n",
       "      <td>If   you   sometimes   like   to    go   to  ...</td>\n",
       "      <td>if sometim like go movi fun wasabi good place ...</td>\n",
       "    </tr>\n",
       "    <tr>\n",
       "      <th>2</th>\n",
       "      <td>Positive</td>\n",
       "      <td>1</td>\n",
       "      <td>2</td>\n",
       "      <td>Emerges   as   something  rare  ,    an   i...</td>\n",
       "      <td>emerg someth rare issu movi honest keenli obse...</td>\n",
       "    </tr>\n",
       "    <tr>\n",
       "      <th>3</th>\n",
       "      <td>Neutral</td>\n",
       "      <td>0</td>\n",
       "      <td>0</td>\n",
       "      <td>The  film     provides   some   great  insigh...</td>\n",
       "      <td>the film provid great insight neurot mindset c...</td>\n",
       "    </tr>\n",
       "    <tr>\n",
       "      <th>4</th>\n",
       "      <td>Positive</td>\n",
       "      <td>1</td>\n",
       "      <td>2</td>\n",
       "      <td>Offers    that   rare  combination   of    en...</td>\n",
       "      <td>offer rare combin entertain educ</td>\n",
       "    </tr>\n",
       "    <tr>\n",
       "      <th>5</th>\n",
       "      <td>Positive</td>\n",
       "      <td>1</td>\n",
       "      <td>1</td>\n",
       "      <td>Perhaps     no  picture   ever  made     has  ...</td>\n",
       "      <td>perhap pictur ever made liter show road hell p...</td>\n",
       "    </tr>\n",
       "    <tr>\n",
       "      <th>6</th>\n",
       "      <td>Positive</td>\n",
       "      <td>1</td>\n",
       "      <td>1</td>\n",
       "      <td>Steers   turns   in    a   snappy  screenpl...</td>\n",
       "      <td>steer turn snappi screenplay curl edg clever w...</td>\n",
       "    </tr>\n",
       "    <tr>\n",
       "      <th>7</th>\n",
       "      <td>Positive</td>\n",
       "      <td>1</td>\n",
       "      <td>1</td>\n",
       "      <td>But   he   somehow     pulls  it  off  .</td>\n",
       "      <td>but somehow pull</td>\n",
       "    </tr>\n",
       "    <tr>\n",
       "      <th>8</th>\n",
       "      <td>Positive</td>\n",
       "      <td>1</td>\n",
       "      <td>1</td>\n",
       "      <td>Take  Care   of   My  Cat    offers    a    ...</td>\n",
       "      <td>take care my cat offer refreshingli differ sli...</td>\n",
       "    </tr>\n",
       "    <tr>\n",
       "      <th>9</th>\n",
       "      <td>Positive</td>\n",
       "      <td>1</td>\n",
       "      <td>2</td>\n",
       "      <td>This      is    a  film  well  worth       see...</td>\n",
       "      <td>thi film well worth see talk sing head</td>\n",
       "    </tr>\n",
       "  </tbody>\n",
       "</table>\n",
       "</div>"
      ],
      "text/plain": [
       "  Sentiment  Sentiment Num  Multi  \\\n",
       "0   Neutral              0      0   \n",
       "1  Positive              1      1   \n",
       "2  Positive              1      2   \n",
       "3   Neutral              0      0   \n",
       "4  Positive              1      2   \n",
       "5  Positive              1      1   \n",
       "6  Positive              1      1   \n",
       "7  Positive              1      1   \n",
       "8  Positive              1      1   \n",
       "9  Positive              1      2   \n",
       "\n",
       "                                                Text  \\\n",
       "0                 Effective  but   too-tepid  biopic   \n",
       "1   If   you   sometimes   like   to    go   to  ...   \n",
       "2     Emerges   as   something  rare  ,    an   i...   \n",
       "3   The  film     provides   some   great  insigh...   \n",
       "4   Offers    that   rare  combination   of    en...   \n",
       "5  Perhaps     no  picture   ever  made     has  ...   \n",
       "6     Steers   turns   in    a   snappy  screenpl...   \n",
       "7           But   he   somehow     pulls  it  off  .   \n",
       "8    Take  Care   of   My  Cat    offers    a    ...   \n",
       "9  This      is    a  film  well  worth       see...   \n",
       "\n",
       "                                        review_clean  \n",
       "0                                effect tepid biopic  \n",
       "1  if sometim like go movi fun wasabi good place ...  \n",
       "2  emerg someth rare issu movi honest keenli obse...  \n",
       "3  the film provid great insight neurot mindset c...  \n",
       "4                   offer rare combin entertain educ  \n",
       "5  perhap pictur ever made liter show road hell p...  \n",
       "6  steer turn snappi screenplay curl edg clever w...  \n",
       "7                                   but somehow pull  \n",
       "8  take care my cat offer refreshingli differ sli...  \n",
       "9             thi film well worth see talk sing head  "
      ]
     },
     "execution_count": 3,
     "metadata": {},
     "output_type": "execute_result"
    }
   ],
   "source": [
    "data.head(10)"
   ]
  },
  {
   "cell_type": "markdown",
   "metadata": {
    "id": "tFmOEtoO18gv"
   },
   "source": [
    "### Split dataset to training and test dataset"
   ]
  },
  {
   "cell_type": "code",
   "execution_count": 4,
   "metadata": {
    "id": "Hh8P1cZ418gv"
   },
   "outputs": [],
   "source": [
    "# split dataset to training and test dataset\n",
    "from sklearn.feature_extraction.text import CountVectorizer\n",
    "from sklearn.model_selection import train_test_split\n",
    "\n",
    "\n",
    "data_train, data_test, y_train, y_test = train_test_split(data['review_clean'], data['Sentiment'], \n",
    "                                                          test_size = 0.25, random_state = 2020, stratify = data['Sentiment'])\n",
    "\n",
    "vectorizer = CountVectorizer()\n",
    "train_counts = vectorizer.fit_transform(data_train)\n",
    "test_counts = vectorizer.transform(data_test)"
   ]
  },
  {
   "cell_type": "markdown",
   "metadata": {
    "id": "Pm9steah18gw"
   },
   "source": [
    "### Model Fitting\n",
    "### Logistic Regression"
   ]
  },
  {
   "cell_type": "code",
   "execution_count": 5,
   "metadata": {
    "id": "pBNzSgWy18gw",
    "outputId": "25f701a1-7746-48b9-cdfd-2de562130959"
   },
   "outputs": [
    {
     "name": "stdout",
     "output_type": "stream",
     "text": [
      "Logistic Regression\n",
      "Accuracy:\n",
      "0.5479204339963833\n",
      "Confusion Matrix:\n",
      "[[148  52  60]\n",
      " [ 21   2  15]\n",
      " [ 59  43 153]]\n",
      "F1 Score:\n",
      "0.5164852821161507\n"
     ]
    }
   ],
   "source": [
    "from sklearn.linear_model import LogisticRegression\n",
    "from sklearn.metrics import confusion_matrix\n",
    "from sklearn.metrics import f1_score\n",
    "\n",
    "\n",
    "lr = LogisticRegression()\n",
    "\n",
    "lr.fit(train_counts, y_train)\n",
    "lr_pred = lr.predict(test_counts)\n",
    "print('Logistic Regression')\n",
    "print('Accuracy:')\n",
    "print(lr.score(test_counts, y_test))\n",
    "print('Confusion Matrix:')\n",
    "print(confusion_matrix(lr_pred, y_test))\n",
    "print('F1 Score:')\n",
    "print(f1_score(y_test, lr_pred, average='weighted'))\n"
   ]
  },
  {
   "cell_type": "markdown",
   "metadata": {
    "id": "uhjw51Pl18gy"
   },
   "source": [
    "### Model Fitting\n",
    "### Naive Bayes"
   ]
  },
  {
   "cell_type": "code",
   "execution_count": 6,
   "metadata": {
    "id": "Bv5YIt5M18gz",
    "outputId": "24500a3e-9a7f-45c4-b888-c05a97132f6c"
   },
   "outputs": [
    {
     "name": "stdout",
     "output_type": "stream",
     "text": [
      "Naive Bayes\n",
      "Accuracy:\n",
      "0.5750452079566004\n",
      "Confusion Matrix:\n",
      "[[149  47  54]\n",
      " [ 11   2   7]\n",
      " [ 68  48 167]]\n",
      "F1 Score:\n",
      "0.5325206854314228\n"
     ]
    }
   ],
   "source": [
    "from sklearn.naive_bayes import MultinomialNB\n",
    "\n",
    "nb = MultinomialNB()\n",
    "\n",
    "nb.fit(train_counts, y_train)\n",
    "nb_pred = nb.predict(test_counts)\n",
    "print('Naive Bayes')\n",
    "print('Accuracy:')\n",
    "print(nb.score(test_counts, y_test))\n",
    "print('Confusion Matrix:')\n",
    "print(confusion_matrix(nb_pred, y_test))\n",
    "print('F1 Score:')\n",
    "print(f1_score(y_test, nb_pred, average='weighted'))"
   ]
  },
  {
   "cell_type": "markdown",
   "metadata": {
    "id": "SIRBPjQ418gz"
   },
   "source": [
    " ### Model Fitting - SVM\n",
    "### Linear Support Vector Classification"
   ]
  },
  {
   "cell_type": "code",
   "execution_count": 7,
   "metadata": {
    "id": "CGmV9ADr18gz",
    "outputId": "570f2d37-d48f-4aaa-8b98-c2e1b6cc5e78"
   },
   "outputs": [
    {
     "name": "stdout",
     "output_type": "stream",
     "text": [
      "SVM\n",
      "Accuracy:\n",
      "0.5334538878842676\n",
      "Confusion Matrix:\n",
      "[[130  46  48]\n",
      " [ 42  16  31]\n",
      " [ 56  35 149]]\n",
      "F1 Score:\n",
      "0.5298699849916347\n"
     ]
    }
   ],
   "source": [
    "from sklearn.svm import LinearSVC\n",
    "\n",
    "start=datetime.now()\n",
    "svm = LinearSVC()\n",
    "\n",
    "svm.fit(train_counts, y_train)\n",
    "svm_pred = svm.predict(test_counts)\n",
    "print('SVM')\n",
    "print('Accuracy:')\n",
    "print(svm.score(test_counts, y_test))\n",
    "print('Confusion Matrix:')\n",
    "print(confusion_matrix(svm_pred, y_test))\n",
    "print('F1 Score:')\n",
    "print(f1_score(y_test, svm_pred, average='weighted'))"
   ]
  },
  {
   "cell_type": "code",
   "execution_count": 8,
   "metadata": {
    "id": "j_2D4NZR18gz",
    "outputId": "138d786b-f44d-4371-d0e4-3d2bb6ec8ac4"
   },
   "outputs": [
    {
     "data": {
      "text/plain": [
       "(1657, 4934)"
      ]
     },
     "execution_count": 8,
     "metadata": {},
     "output_type": "execute_result"
    }
   ],
   "source": [
    "train_counts.shape"
   ]
  },
  {
   "cell_type": "code",
   "execution_count": null,
   "metadata": {
    "id": "4eLH4sxD18g2"
   },
   "outputs": [],
   "source": []
  }
 ],
 "metadata": {
  "colab": {
   "name": "Learning based methods (Transport).ipynb",
   "provenance": []
  },
  "kernelspec": {
   "display_name": "Python 3",
   "language": "python",
   "name": "python3"
  },
  "language_info": {
   "codemirror_mode": {
    "name": "ipython",
    "version": 3
   },
   "file_extension": ".py",
   "mimetype": "text/x-python",
   "name": "python",
   "nbconvert_exporter": "python",
   "pygments_lexer": "ipython3",
   "version": "3.8.8"
  }
 },
 "nbformat": 4,
 "nbformat_minor": 1
}
