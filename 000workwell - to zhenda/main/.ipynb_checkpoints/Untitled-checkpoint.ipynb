{
 "cells": [
  {
   "cell_type": "code",
   "execution_count": 1,
   "metadata": {},
   "outputs": [],
   "source": [
    "import pandas as pd\n",
    "from sklearn.metrics import accuracy_score"
   ]
  },
  {
   "cell_type": "code",
   "execution_count": 2,
   "metadata": {},
   "outputs": [],
   "source": [
    "from sentiment_explorerVersion7 import *"
   ]
  },
  {
   "cell_type": "code",
   "execution_count": 3,
   "metadata": {},
   "outputs": [],
   "source": [
    "def pdColumn_to_list_converter(df):\n",
    "    df_list = df.values.tolist() #produces list of lists\n",
    "    proper_list = [item for sublist in df_list for item in sublist] #a single list\n",
    "    return proper_list"
   ]
  },
  {
   "cell_type": "code",
   "execution_count": 4,
   "metadata": {},
   "outputs": [
    {
     "data": {
      "text/html": [
       "<div>\n",
       "<style scoped>\n",
       "    .dataframe tbody tr th:only-of-type {\n",
       "        vertical-align: middle;\n",
       "    }\n",
       "\n",
       "    .dataframe tbody tr th {\n",
       "        vertical-align: top;\n",
       "    }\n",
       "\n",
       "    .dataframe thead th {\n",
       "        text-align: right;\n",
       "    }\n",
       "</style>\n",
       "<table border=\"1\" class=\"dataframe\">\n",
       "  <thead>\n",
       "    <tr style=\"text-align: right;\">\n",
       "      <th></th>\n",
       "      <th>Sentiment</th>\n",
       "      <th>Sentiment Num</th>\n",
       "      <th>Multi</th>\n",
       "      <th>Text</th>\n",
       "    </tr>\n",
       "  </thead>\n",
       "  <tbody>\n",
       "    <tr>\n",
       "      <th>0</th>\n",
       "      <td>Negative</td>\n",
       "      <td>-1.0</td>\n",
       "      <td>-1.0</td>\n",
       "      <td>arent good</td>\n",
       "    </tr>\n",
       "    <tr>\n",
       "      <th>1</th>\n",
       "      <td>Neural</td>\n",
       "      <td>0.0</td>\n",
       "      <td>0.0</td>\n",
       "      <td>not excellent</td>\n",
       "    </tr>\n",
       "    <tr>\n",
       "      <th>2</th>\n",
       "      <td>Neural</td>\n",
       "      <td>0.0</td>\n",
       "      <td>0.0</td>\n",
       "      <td>not anger</td>\n",
       "    </tr>\n",
       "    <tr>\n",
       "      <th>3</th>\n",
       "      <td>Negative</td>\n",
       "      <td>-1.0</td>\n",
       "      <td>-1.0</td>\n",
       "      <td>cant love</td>\n",
       "    </tr>\n",
       "    <tr>\n",
       "      <th>4</th>\n",
       "      <td>Neural</td>\n",
       "      <td>0.0</td>\n",
       "      <td>0.0</td>\n",
       "      <td>can't hate</td>\n",
       "    </tr>\n",
       "  </tbody>\n",
       "</table>\n",
       "</div>"
      ],
      "text/plain": [
       "  Sentiment  Sentiment Num  Multi           Text\n",
       "0  Negative           -1.0   -1.0     arent good\n",
       "1   Neural             0.0    0.0  not excellent\n",
       "2   Neural             0.0    0.0      not anger\n",
       "3  Negative           -1.0   -1.0      cant love\n",
       "4   Neural             0.0    0.0     can't hate"
      ]
     },
     "execution_count": 4,
     "metadata": {},
     "output_type": "execute_result"
    }
   ],
   "source": [
    "df = pd.read_csv('initial data as well as targeted output-RA-data-example -jiaxin-simple.csv')  #import reviews\n",
    "df.head()\n",
    "\n",
    "df.head()"
   ]
  },
  {
   "cell_type": "code",
   "execution_count": null,
   "metadata": {},
   "outputs": [],
   "source": [
    "import re\n",
    "\n",
    "def newtext(text):\n",
    "    text = text.strip()\n",
    "    text = text.replace('/\\s\\s+/g', ' ') # replace multiple spaces with a single space\n",
    "    text = re.sub ('\\s+', ' ', text)\n",
    "    text = re.sub('@[^\\s]+','',text)  # delete the username\n",
    "    text = re.sub('&[^\\s]+','',text)\n",
    "    text = re.sub('#[^\\s]+','',text)\n",
    "    text = re.sub('\".*?\"', '', text)  # delete anything in quotation marks\n",
    "    text = re.sub('http[s]?://\\S+', '', text) # delete urls\n",
    "    text = text.replace(\"extension service\",\"extension-service\")\n",
    "    text = text.replace(\"extracurricular activity\",\"extracurricular-activity\")\n",
    "    text = text.replace(\"old age\",\"old-age\")\n",
    "    text = text.replace(\"fat farm\",\"fat-farm\")\n",
    "    text = text.replace(\"all hail\",\"all-hail\")\n",
    "    text = text.replace(\"feel like a million\",\"feel-likeamillion\")\n",
    "      \n",
    "    text = re.sub(\"\\S*@\\S*\\s?\",'',text)   # delete email address\n",
    "    text = text.replace('\\n', ' ').replace('\\r', '')  # Clean up all \"\\n\"\n",
    "    \n",
    "    text = re.sub(r\"\"\"\n",
    "               [()@#?!&$]+  # Accept one or more copies of punctuation\n",
    "               \\ *           # plus zero or more copies of a space,\n",
    "               \"\"\",\n",
    "               \"\",          # and replace it with no space\n",
    "               text, flags=re.VERBOSE)\n",
    "    \n",
    "    text = text.replace('.', ' .') #specially added to maintain fullstop\n",
    "    text = text.replace('?', ' ?') #specially added to maintain question mark\n",
    "    text = text.replace('!', ' !') #specially added to maintain exclamation mark\n",
    "    text = text.replace(',', ' ,') #specially added to maintain exclamation mark\n",
    "    text = text.replace(';', ' ;') #specially added to maintain exclamation mark\n",
    "    text = text.replace(':', ' :') #specially added to maintain exclamation mark\n",
    "    \n",
    "    text= re.sub(' +', ' ', text)\n",
    "    #text= re.sub(':', '', text)\n",
    "    text= re.sub(\"[:']\", '', text)\n",
    "    #text = re.sub ('\\s+', '', text)\n",
    "    return text.lower()\n"
   ]
  },
  {
   "cell_type": "code",
   "execution_count": null,
   "metadata": {},
   "outputs": [],
   "source": [
    "df[\"Text\"] = df['Text'].apply(lambda text: newtext(text))"
   ]
  },
  {
   "cell_type": "code",
   "execution_count": null,
   "metadata": {},
   "outputs": [],
   "source": [
    "df.drop(df.columns[0], axis=1)"
   ]
  }
 ],
 "metadata": {
  "kernelspec": {
   "display_name": "Python 3",
   "language": "python",
   "name": "python3"
  },
  "language_info": {
   "codemirror_mode": {
    "name": "ipython",
    "version": 3
   },
   "file_extension": ".py",
   "mimetype": "text/x-python",
   "name": "python",
   "nbconvert_exporter": "python",
   "pygments_lexer": "ipython3",
   "version": "3.7.6"
  }
 },
 "nbformat": 4,
 "nbformat_minor": 4
}
